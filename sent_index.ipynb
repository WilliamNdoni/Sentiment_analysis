{
 "cells": [
  {
   "cell_type": "markdown",
   "id": "5e3d5a05",
   "metadata": {},
   "source": [
    "# SENTIMENT ANALYSIS :GOOGLE AND APPLE"
   ]
  },
  {
   "cell_type": "markdown",
   "id": "c33122cf",
   "metadata": {},
   "source": [
    "## Business understanding"
   ]
  },
  {
   "cell_type": "markdown",
   "id": "3f38180e",
   "metadata": {},
   "source": [
    "Google and Apple are multinational techonology companies well known for their products such as google sheets (from Google) and iPhone (from Apple).The companies have come up with ways to get their customer feedback such as,in app user feedback and rating, getting the tweets from Twitter(now X),among many others. However,since the companies are multinational it can be really difficult and tiresome to read through the millions of feedback or tweets from multiple apps in order to get the customers' view or sentiment about a product.As a result,the companies want to build a model that can rate the sentiment of a tweet or text based on its content.This will enable the companies to make improvements on their products or services to improve customer satisfaction and even attract more customers."
   ]
  },
  {
   "cell_type": "markdown",
   "id": "e49a3d34",
   "metadata": {},
   "source": [
    "## Data understanding"
   ]
  },
  {
   "cell_type": "markdown",
   "id": "ec56cfa8",
   "metadata": {},
   "source": [
    "The data used in this project was extracted from [data.world](https://data.world/crowdflower/brands-and-product-emotions). It contains tweets related to Google and Apple products which were ranked as negative,positive or neutral. This dataset contains over 9000 tweets.In addition to the tweets and their ratings,the dataset contains a column that shows the product the tweet is directed to.This dataset will be of great help when building a model for our sentiment analysis."
   ]
  },
  {
   "cell_type": "markdown",
   "id": "dcefdf54",
   "metadata": {},
   "source": [
    "### Data preparation"
   ]
  },
  {
   "cell_type": "markdown",
   "id": "c857263b",
   "metadata": {},
   "source": [
    "First,we will prepare the data with nltk and develop a model from the resulting data.This will act as our basic model.From there we will build models with RNN using LSTMs and GRUs and pick the best performing model.The data preparation for RNN models is different and will not incoporate nltk."
   ]
  },
  {
   "cell_type": "markdown",
   "id": "ea82f946",
   "metadata": {},
   "source": [
    "#### Importing the relevant libraries"
   ]
  },
  {
   "cell_type": "code",
   "execution_count": 1,
   "id": "96c8a32b",
   "metadata": {},
   "outputs": [],
   "source": [
    "import pandas as pd\n",
    "import numpy as np\n",
    "import matplotlib.pyplot as plt\n",
    "import seaborn as sns\n",
    "import nltk\n",
    "from nltk.tokenize import RegexpTokenizer\n",
    "from nltk.corpus import stopwords\n",
    "from nltk.stem import WordNetLemmatizer\n",
    "\n",
    "nltk.download('wordnet',quiet=True)\n",
    "%matplotlib inline"
   ]
  },
  {
   "cell_type": "code",
   "execution_count": 2,
   "id": "fe3a0213",
   "metadata": {},
   "outputs": [
    {
     "data": {
      "text/html": [
       "<div>\n",
       "<style scoped>\n",
       "    .dataframe tbody tr th:only-of-type {\n",
       "        vertical-align: middle;\n",
       "    }\n",
       "\n",
       "    .dataframe tbody tr th {\n",
       "        vertical-align: top;\n",
       "    }\n",
       "\n",
       "    .dataframe thead th {\n",
       "        text-align: right;\n",
       "    }\n",
       "</style>\n",
       "<table border=\"1\" class=\"dataframe\">\n",
       "  <thead>\n",
       "    <tr style=\"text-align: right;\">\n",
       "      <th></th>\n",
       "      <th>tweet_text</th>\n",
       "      <th>emotion_in_tweet_is_directed_at</th>\n",
       "      <th>is_there_an_emotion_directed_at_a_brand_or_product</th>\n",
       "    </tr>\n",
       "  </thead>\n",
       "  <tbody>\n",
       "    <tr>\n",
       "      <th>0</th>\n",
       "      <td>.@wesley83 I have a 3G iPhone. After 3 hrs twe...</td>\n",
       "      <td>iPhone</td>\n",
       "      <td>Negative emotion</td>\n",
       "    </tr>\n",
       "    <tr>\n",
       "      <th>1</th>\n",
       "      <td>@jessedee Know about @fludapp ? Awesome iPad/i...</td>\n",
       "      <td>iPad or iPhone App</td>\n",
       "      <td>Positive emotion</td>\n",
       "    </tr>\n",
       "    <tr>\n",
       "      <th>2</th>\n",
       "      <td>@swonderlin Can not wait for #iPad 2 also. The...</td>\n",
       "      <td>iPad</td>\n",
       "      <td>Positive emotion</td>\n",
       "    </tr>\n",
       "    <tr>\n",
       "      <th>3</th>\n",
       "      <td>@sxsw I hope this year's festival isn't as cra...</td>\n",
       "      <td>iPad or iPhone App</td>\n",
       "      <td>Negative emotion</td>\n",
       "    </tr>\n",
       "    <tr>\n",
       "      <th>4</th>\n",
       "      <td>@sxtxstate great stuff on Fri #SXSW: Marissa M...</td>\n",
       "      <td>Google</td>\n",
       "      <td>Positive emotion</td>\n",
       "    </tr>\n",
       "  </tbody>\n",
       "</table>\n",
       "</div>"
      ],
      "text/plain": [
       "                                          tweet_text  \\\n",
       "0  .@wesley83 I have a 3G iPhone. After 3 hrs twe...   \n",
       "1  @jessedee Know about @fludapp ? Awesome iPad/i...   \n",
       "2  @swonderlin Can not wait for #iPad 2 also. The...   \n",
       "3  @sxsw I hope this year's festival isn't as cra...   \n",
       "4  @sxtxstate great stuff on Fri #SXSW: Marissa M...   \n",
       "\n",
       "  emotion_in_tweet_is_directed_at  \\\n",
       "0                          iPhone   \n",
       "1              iPad or iPhone App   \n",
       "2                            iPad   \n",
       "3              iPad or iPhone App   \n",
       "4                          Google   \n",
       "\n",
       "  is_there_an_emotion_directed_at_a_brand_or_product  \n",
       "0                                   Negative emotion  \n",
       "1                                   Positive emotion  \n",
       "2                                   Positive emotion  \n",
       "3                                   Negative emotion  \n",
       "4                                   Positive emotion  "
      ]
     },
     "execution_count": 2,
     "metadata": {},
     "output_type": "execute_result"
    }
   ],
   "source": [
    "# Importing the dataset using pandas\n",
    "raw_df = pd.read_csv('Data/judge-1377884607_tweet_product_company.csv',encoding='ISO-8859-1')\n",
    "# Taking a look at the dataset\n",
    "raw_df.head()"
   ]
  },
  {
   "cell_type": "markdown",
   "id": "62c2c968",
   "metadata": {},
   "source": [
    "The dataset contains columns with really long names.We can start by renaming the columns to have shorter column names"
   ]
  },
  {
   "cell_type": "code",
   "execution_count": 3,
   "id": "004155b7",
   "metadata": {},
   "outputs": [
    {
     "data": {
      "text/html": [
       "<div>\n",
       "<style scoped>\n",
       "    .dataframe tbody tr th:only-of-type {\n",
       "        vertical-align: middle;\n",
       "    }\n",
       "\n",
       "    .dataframe tbody tr th {\n",
       "        vertical-align: top;\n",
       "    }\n",
       "\n",
       "    .dataframe thead th {\n",
       "        text-align: right;\n",
       "    }\n",
       "</style>\n",
       "<table border=\"1\" class=\"dataframe\">\n",
       "  <thead>\n",
       "    <tr style=\"text-align: right;\">\n",
       "      <th></th>\n",
       "      <th>tweet</th>\n",
       "      <th>product</th>\n",
       "      <th>emotion</th>\n",
       "    </tr>\n",
       "  </thead>\n",
       "  <tbody>\n",
       "    <tr>\n",
       "      <th>0</th>\n",
       "      <td>.@wesley83 I have a 3G iPhone. After 3 hrs twe...</td>\n",
       "      <td>iPhone</td>\n",
       "      <td>Negative emotion</td>\n",
       "    </tr>\n",
       "    <tr>\n",
       "      <th>1</th>\n",
       "      <td>@jessedee Know about @fludapp ? Awesome iPad/i...</td>\n",
       "      <td>iPad or iPhone App</td>\n",
       "      <td>Positive emotion</td>\n",
       "    </tr>\n",
       "    <tr>\n",
       "      <th>2</th>\n",
       "      <td>@swonderlin Can not wait for #iPad 2 also. The...</td>\n",
       "      <td>iPad</td>\n",
       "      <td>Positive emotion</td>\n",
       "    </tr>\n",
       "    <tr>\n",
       "      <th>3</th>\n",
       "      <td>@sxsw I hope this year's festival isn't as cra...</td>\n",
       "      <td>iPad or iPhone App</td>\n",
       "      <td>Negative emotion</td>\n",
       "    </tr>\n",
       "    <tr>\n",
       "      <th>4</th>\n",
       "      <td>@sxtxstate great stuff on Fri #SXSW: Marissa M...</td>\n",
       "      <td>Google</td>\n",
       "      <td>Positive emotion</td>\n",
       "    </tr>\n",
       "  </tbody>\n",
       "</table>\n",
       "</div>"
      ],
      "text/plain": [
       "                                               tweet             product  \\\n",
       "0  .@wesley83 I have a 3G iPhone. After 3 hrs twe...              iPhone   \n",
       "1  @jessedee Know about @fludapp ? Awesome iPad/i...  iPad or iPhone App   \n",
       "2  @swonderlin Can not wait for #iPad 2 also. The...                iPad   \n",
       "3  @sxsw I hope this year's festival isn't as cra...  iPad or iPhone App   \n",
       "4  @sxtxstate great stuff on Fri #SXSW: Marissa M...              Google   \n",
       "\n",
       "            emotion  \n",
       "0  Negative emotion  \n",
       "1  Positive emotion  \n",
       "2  Positive emotion  \n",
       "3  Negative emotion  \n",
       "4  Positive emotion  "
      ]
     },
     "execution_count": 3,
     "metadata": {},
     "output_type": "execute_result"
    }
   ],
   "source": [
    "#Renaming the columns\n",
    "raw_df.columns =['tweet','product','emotion']\n",
    "raw_df.head()"
   ]
  },
  {
   "cell_type": "markdown",
   "id": "a019e735",
   "metadata": {},
   "source": [
    "#### Exploring the dataset"
   ]
  },
  {
   "cell_type": "code",
   "execution_count": 4,
   "id": "d5bae9ae",
   "metadata": {},
   "outputs": [
    {
     "data": {
      "text/plain": [
       "No emotion toward brand or product    5389\n",
       "Positive emotion                      2978\n",
       "Negative emotion                       570\n",
       "I can't tell                           156\n",
       "Name: emotion, dtype: int64"
      ]
     },
     "execution_count": 4,
     "metadata": {},
     "output_type": "execute_result"
    }
   ],
   "source": [
    "#Taking a look at the emotion column\n",
    "raw_df.emotion.value_counts()"
   ]
  },
  {
   "cell_type": "markdown",
   "id": "5e864107",
   "metadata": {},
   "source": [
    "We want to develop a model that can tell whether a tweet is positive,negative or neutral.The emotion column consist of four categories.The `I can't tell` category will be dropped since it is of no use to our model. One may consider changing this category into the no emotion category but it might ruin the model in the long run."
   ]
  },
  {
   "cell_type": "code",
   "execution_count": 5,
   "id": "41a94370",
   "metadata": {},
   "outputs": [
    {
     "data": {
      "text/plain": [
       "No emotion toward brand or product    5389\n",
       "Positive emotion                      2978\n",
       "Negative emotion                       570\n",
       "Name: emotion, dtype: int64"
      ]
     },
     "execution_count": 5,
     "metadata": {},
     "output_type": "execute_result"
    }
   ],
   "source": [
    "# Removing the 'I can't tell' category from the emotion column\n",
    "df_3cat = raw_df[raw_df['emotion'] != \"I can't tell\"]\n",
    "# Checking the remaining categories in the emotion column\n",
    "df_3cat.emotion.value_counts()"
   ]
  },
  {
   "cell_type": "code",
   "execution_count": 6,
   "id": "e1cd5978",
   "metadata": {},
   "outputs": [
    {
     "data": {
      "text/plain": [
       "'.@wesley83 I have a 3G iPhone. After 3 hrs tweeting at #RISE_Austin, it was dead!  I need to upgrade. Plugin stations at #SXSW.'"
      ]
     },
     "execution_count": 6,
     "metadata": {},
     "output_type": "execute_result"
    }
   ],
   "source": [
    "# Taking a look at one of the tweets\n",
    "df_3cat.tweet[0]"
   ]
  },
  {
   "cell_type": "markdown",
   "id": "5bcfe806",
   "metadata": {},
   "source": [
    "Since these are tweets from Twitter (now X) they have hashtags and username tags(@) which have no value in determining the sentiment of a tweet or text.These tags should be removed."
   ]
  },
  {
   "cell_type": "markdown",
   "id": "65b73475",
   "metadata": {},
   "source": [
    "#### Dealing with missing values"
   ]
  },
  {
   "cell_type": "code",
   "execution_count": 7,
   "id": "26a08656",
   "metadata": {},
   "outputs": [
    {
     "data": {
      "text/plain": [
       "tweet         1\n",
       "product    5655\n",
       "emotion       0\n",
       "dtype: int64"
      ]
     },
     "execution_count": 7,
     "metadata": {},
     "output_type": "execute_result"
    }
   ],
   "source": [
    "# Checking for missing values\n",
    "df_3cat.isna().sum()"
   ]
  },
  {
   "cell_type": "markdown",
   "id": "cc2f6ef2",
   "metadata": {},
   "source": [
    "The `tweet` column has only one missing value while the `product` column has more than half of the observations as missing.The `product` column can be dropped since we only need the other two columns to build a model for sentiment analysis.The row containing the missing tweet will be dropped too."
   ]
  },
  {
   "cell_type": "code",
   "execution_count": 8,
   "id": "9035b884",
   "metadata": {},
   "outputs": [],
   "source": [
    "# Dropping the product column\n",
    "df_2col = df_3cat.drop('product',axis=1)\n",
    "# Dropping the row containing the missing tweet\n",
    "df_2col.dropna(inplace=True)\n",
    "# Checking for missing values\n",
    "df_2col.isna().sum()\n",
    "# Reseting the index of the dataframe\n",
    "df_2col.reset_index(drop=True,inplace=True)"
   ]
  },
  {
   "cell_type": "code",
   "execution_count": 9,
   "id": "5fa769c0",
   "metadata": {},
   "outputs": [],
   "source": [
    "#Instantiating a RegexpTokenizer that will include words with apostrophes\n",
    "tokenizer = RegexpTokenizer(r\"\\b\\w+(?:'\\w+)?\\b\")\n",
    "# Creating a list of stopwords to exlude numbers and the sxsw tag\n",
    "stopwords_list = stopwords.words('english')+['sxsw']+['0','1','2','3','4','5','6','7','8','9']\n",
    "# Creating an instance of WordNetLemmatizer\n",
    "lemmatizer = WordNetLemmatizer()"
   ]
  },
  {
   "cell_type": "code",
   "execution_count": 10,
   "id": "fa9fb9a9",
   "metadata": {},
   "outputs": [],
   "source": [
    "#Creating a function that will produce the appropriate tokens\n",
    "def word_preprocessor(text,tokenizer,stopwords_list,lemmatizer):\n",
    "#     removing capital letters in the text\n",
    "    low = text.lower()\n",
    "#     tokenizing the text\n",
    "    tokens = tokenizer.tokenize(low)\n",
    "#     removing stopwords from the tokens\n",
    "    no_stopwords_list = [word for word in tokens if word not in stopwords_list]\n",
    "#     performing lemmatization\n",
    "#     we can remove the first word from the tweets since it is a name tag\n",
    "    preprocessed_text = [lemmatizer.lemmatize(word) for word in no_stopwords_list[1:]]\n",
    "    return preprocessed_text"
   ]
  },
  {
   "cell_type": "code",
   "execution_count": 11,
   "id": "8e678df7",
   "metadata": {},
   "outputs": [
    {
     "data": {
      "text/plain": [
       "['3g',\n",
       " 'iphone',\n",
       " 'hr',\n",
       " 'tweeting',\n",
       " 'rise_austin',\n",
       " 'dead',\n",
       " 'need',\n",
       " 'upgrade',\n",
       " 'plugin',\n",
       " 'station']"
      ]
     },
     "execution_count": 11,
     "metadata": {},
     "output_type": "execute_result"
    }
   ],
   "source": [
    "# Checking to see if the function works\n",
    "word_preprocessor( df_2col.tweet[0],tokenizer,stopwords_list,lemmatizer)"
   ]
  },
  {
   "cell_type": "code",
   "execution_count": 12,
   "id": "8180e8af",
   "metadata": {},
   "outputs": [],
   "source": [
    "# Mapping the function to the dataset and creating a new column with the preprocessed tweets\n",
    "df_2col['preprocessed'] = df_2col.tweet.apply\\\n",
    "(lambda x: word_preprocessor(x,tokenizer,stopwords_list,lemmatizer) )"
   ]
  },
  {
   "cell_type": "code",
   "execution_count": 13,
   "id": "c7a15cee",
   "metadata": {},
   "outputs": [
    {
     "data": {
      "text/html": [
       "<div>\n",
       "<style scoped>\n",
       "    .dataframe tbody tr th:only-of-type {\n",
       "        vertical-align: middle;\n",
       "    }\n",
       "\n",
       "    .dataframe tbody tr th {\n",
       "        vertical-align: top;\n",
       "    }\n",
       "\n",
       "    .dataframe thead th {\n",
       "        text-align: right;\n",
       "    }\n",
       "</style>\n",
       "<table border=\"1\" class=\"dataframe\">\n",
       "  <thead>\n",
       "    <tr style=\"text-align: right;\">\n",
       "      <th></th>\n",
       "      <th>tweet</th>\n",
       "      <th>emotion</th>\n",
       "      <th>preprocessed</th>\n",
       "    </tr>\n",
       "  </thead>\n",
       "  <tbody>\n",
       "    <tr>\n",
       "      <th>0</th>\n",
       "      <td>.@wesley83 I have a 3G iPhone. After 3 hrs twe...</td>\n",
       "      <td>Negative emotion</td>\n",
       "      <td>[3g, iphone, hr, tweeting, rise_austin, dead, ...</td>\n",
       "    </tr>\n",
       "    <tr>\n",
       "      <th>1</th>\n",
       "      <td>@jessedee Know about @fludapp ? Awesome iPad/i...</td>\n",
       "      <td>Positive emotion</td>\n",
       "      <td>[know, fludapp, awesome, ipad, iphone, app, li...</td>\n",
       "    </tr>\n",
       "    <tr>\n",
       "      <th>2</th>\n",
       "      <td>@swonderlin Can not wait for #iPad 2 also. The...</td>\n",
       "      <td>Positive emotion</td>\n",
       "      <td>[wait, ipad, also, sale]</td>\n",
       "    </tr>\n",
       "    <tr>\n",
       "      <th>3</th>\n",
       "      <td>@sxsw I hope this year's festival isn't as cra...</td>\n",
       "      <td>Negative emotion</td>\n",
       "      <td>[year's, festival, crashy, year's, iphone, app]</td>\n",
       "    </tr>\n",
       "    <tr>\n",
       "      <th>4</th>\n",
       "      <td>@sxtxstate great stuff on Fri #SXSW: Marissa M...</td>\n",
       "      <td>Positive emotion</td>\n",
       "      <td>[great, stuff, fri, marissa, mayer, google, ti...</td>\n",
       "    </tr>\n",
       "  </tbody>\n",
       "</table>\n",
       "</div>"
      ],
      "text/plain": [
       "                                               tweet           emotion  \\\n",
       "0  .@wesley83 I have a 3G iPhone. After 3 hrs twe...  Negative emotion   \n",
       "1  @jessedee Know about @fludapp ? Awesome iPad/i...  Positive emotion   \n",
       "2  @swonderlin Can not wait for #iPad 2 also. The...  Positive emotion   \n",
       "3  @sxsw I hope this year's festival isn't as cra...  Negative emotion   \n",
       "4  @sxtxstate great stuff on Fri #SXSW: Marissa M...  Positive emotion   \n",
       "\n",
       "                                        preprocessed  \n",
       "0  [3g, iphone, hr, tweeting, rise_austin, dead, ...  \n",
       "1  [know, fludapp, awesome, ipad, iphone, app, li...  \n",
       "2                           [wait, ipad, also, sale]  \n",
       "3    [year's, festival, crashy, year's, iphone, app]  \n",
       "4  [great, stuff, fri, marissa, mayer, google, ti...  "
      ]
     },
     "execution_count": 13,
     "metadata": {},
     "output_type": "execute_result"
    }
   ],
   "source": [
    "# Taking a look at the new dataframe\n",
    "df_2col.head()"
   ]
  },
  {
   "cell_type": "markdown",
   "id": "19ecd7d8",
   "metadata": {},
   "source": [
    "Next we will change the emotion column to contain integers:\n",
    "- Positive emotion = 1\n",
    "- Negative emotion = -1\n",
    "- No emotion toward brand or product = 0"
   ]
  },
  {
   "cell_type": "code",
   "execution_count": 14,
   "id": "192d97ec",
   "metadata": {},
   "outputs": [],
   "source": [
    "## Creating a function to encode the categories to integers\n",
    "def encoder(text):\n",
    "    if text == 'Positive emotion':\n",
    "        return 1\n",
    "    if text == 'Negative emotion':\n",
    "        return -1\n",
    "    else :\n",
    "        return 0\n",
    "    "
   ]
  },
  {
   "cell_type": "code",
   "execution_count": 15,
   "id": "35c1d436",
   "metadata": {},
   "outputs": [
    {
     "data": {
      "text/html": [
       "<div>\n",
       "<style scoped>\n",
       "    .dataframe tbody tr th:only-of-type {\n",
       "        vertical-align: middle;\n",
       "    }\n",
       "\n",
       "    .dataframe tbody tr th {\n",
       "        vertical-align: top;\n",
       "    }\n",
       "\n",
       "    .dataframe thead th {\n",
       "        text-align: right;\n",
       "    }\n",
       "</style>\n",
       "<table border=\"1\" class=\"dataframe\">\n",
       "  <thead>\n",
       "    <tr style=\"text-align: right;\">\n",
       "      <th></th>\n",
       "      <th>tweet</th>\n",
       "      <th>emotion</th>\n",
       "      <th>preprocessed</th>\n",
       "    </tr>\n",
       "  </thead>\n",
       "  <tbody>\n",
       "    <tr>\n",
       "      <th>0</th>\n",
       "      <td>.@wesley83 I have a 3G iPhone. After 3 hrs twe...</td>\n",
       "      <td>-1</td>\n",
       "      <td>[3g, iphone, hr, tweeting, rise_austin, dead, ...</td>\n",
       "    </tr>\n",
       "    <tr>\n",
       "      <th>1</th>\n",
       "      <td>@jessedee Know about @fludapp ? Awesome iPad/i...</td>\n",
       "      <td>1</td>\n",
       "      <td>[know, fludapp, awesome, ipad, iphone, app, li...</td>\n",
       "    </tr>\n",
       "    <tr>\n",
       "      <th>2</th>\n",
       "      <td>@swonderlin Can not wait for #iPad 2 also. The...</td>\n",
       "      <td>1</td>\n",
       "      <td>[wait, ipad, also, sale]</td>\n",
       "    </tr>\n",
       "    <tr>\n",
       "      <th>3</th>\n",
       "      <td>@sxsw I hope this year's festival isn't as cra...</td>\n",
       "      <td>-1</td>\n",
       "      <td>[year's, festival, crashy, year's, iphone, app]</td>\n",
       "    </tr>\n",
       "    <tr>\n",
       "      <th>4</th>\n",
       "      <td>@sxtxstate great stuff on Fri #SXSW: Marissa M...</td>\n",
       "      <td>1</td>\n",
       "      <td>[great, stuff, fri, marissa, mayer, google, ti...</td>\n",
       "    </tr>\n",
       "  </tbody>\n",
       "</table>\n",
       "</div>"
      ],
      "text/plain": [
       "                                               tweet  emotion  \\\n",
       "0  .@wesley83 I have a 3G iPhone. After 3 hrs twe...       -1   \n",
       "1  @jessedee Know about @fludapp ? Awesome iPad/i...        1   \n",
       "2  @swonderlin Can not wait for #iPad 2 also. The...        1   \n",
       "3  @sxsw I hope this year's festival isn't as cra...       -1   \n",
       "4  @sxtxstate great stuff on Fri #SXSW: Marissa M...        1   \n",
       "\n",
       "                                        preprocessed  \n",
       "0  [3g, iphone, hr, tweeting, rise_austin, dead, ...  \n",
       "1  [know, fludapp, awesome, ipad, iphone, app, li...  \n",
       "2                           [wait, ipad, also, sale]  \n",
       "3    [year's, festival, crashy, year's, iphone, app]  \n",
       "4  [great, stuff, fri, marissa, mayer, google, ti...  "
      ]
     },
     "execution_count": 15,
     "metadata": {},
     "output_type": "execute_result"
    }
   ],
   "source": [
    "# Mapping the function to the emotion column\n",
    "df_2col['emotion'] = df_2col.emotion.apply( lambda x: encoder(x) )\n",
    "df_2col.head()"
   ]
  },
  {
   "cell_type": "markdown",
   "id": "87754273",
   "metadata": {},
   "source": [
    "Next we are going to join the preprocessed column to contain single strings per row to make them compatible to sklearn's CountVectorizer and TfidfVectorizer"
   ]
  },
  {
   "cell_type": "code",
   "execution_count": 17,
   "id": "6a07bb68",
   "metadata": {},
   "outputs": [
    {
     "data": {
      "text/html": [
       "<div>\n",
       "<style scoped>\n",
       "    .dataframe tbody tr th:only-of-type {\n",
       "        vertical-align: middle;\n",
       "    }\n",
       "\n",
       "    .dataframe tbody tr th {\n",
       "        vertical-align: top;\n",
       "    }\n",
       "\n",
       "    .dataframe thead th {\n",
       "        text-align: right;\n",
       "    }\n",
       "</style>\n",
       "<table border=\"1\" class=\"dataframe\">\n",
       "  <thead>\n",
       "    <tr style=\"text-align: right;\">\n",
       "      <th></th>\n",
       "      <th>tweet</th>\n",
       "      <th>emotion</th>\n",
       "      <th>preprocessed</th>\n",
       "      <th>joined_text</th>\n",
       "    </tr>\n",
       "  </thead>\n",
       "  <tbody>\n",
       "    <tr>\n",
       "      <th>0</th>\n",
       "      <td>.@wesley83 I have a 3G iPhone. After 3 hrs twe...</td>\n",
       "      <td>-1</td>\n",
       "      <td>[3g, iphone, hr, tweeting, rise_austin, dead, ...</td>\n",
       "      <td>3g iphone hr tweeting rise_austin dead need up...</td>\n",
       "    </tr>\n",
       "    <tr>\n",
       "      <th>1</th>\n",
       "      <td>@jessedee Know about @fludapp ? Awesome iPad/i...</td>\n",
       "      <td>1</td>\n",
       "      <td>[know, fludapp, awesome, ipad, iphone, app, li...</td>\n",
       "      <td>know fludapp awesome ipad iphone app likely ap...</td>\n",
       "    </tr>\n",
       "    <tr>\n",
       "      <th>2</th>\n",
       "      <td>@swonderlin Can not wait for #iPad 2 also. The...</td>\n",
       "      <td>1</td>\n",
       "      <td>[wait, ipad, also, sale]</td>\n",
       "      <td>wait ipad also sale</td>\n",
       "    </tr>\n",
       "    <tr>\n",
       "      <th>3</th>\n",
       "      <td>@sxsw I hope this year's festival isn't as cra...</td>\n",
       "      <td>-1</td>\n",
       "      <td>[year's, festival, crashy, year's, iphone, app]</td>\n",
       "      <td>year's festival crashy year's iphone app</td>\n",
       "    </tr>\n",
       "    <tr>\n",
       "      <th>4</th>\n",
       "      <td>@sxtxstate great stuff on Fri #SXSW: Marissa M...</td>\n",
       "      <td>1</td>\n",
       "      <td>[great, stuff, fri, marissa, mayer, google, ti...</td>\n",
       "      <td>great stuff fri marissa mayer google tim o'rei...</td>\n",
       "    </tr>\n",
       "  </tbody>\n",
       "</table>\n",
       "</div>"
      ],
      "text/plain": [
       "                                               tweet  emotion  \\\n",
       "0  .@wesley83 I have a 3G iPhone. After 3 hrs twe...       -1   \n",
       "1  @jessedee Know about @fludapp ? Awesome iPad/i...        1   \n",
       "2  @swonderlin Can not wait for #iPad 2 also. The...        1   \n",
       "3  @sxsw I hope this year's festival isn't as cra...       -1   \n",
       "4  @sxtxstate great stuff on Fri #SXSW: Marissa M...        1   \n",
       "\n",
       "                                        preprocessed  \\\n",
       "0  [3g, iphone, hr, tweeting, rise_austin, dead, ...   \n",
       "1  [know, fludapp, awesome, ipad, iphone, app, li...   \n",
       "2                           [wait, ipad, also, sale]   \n",
       "3    [year's, festival, crashy, year's, iphone, app]   \n",
       "4  [great, stuff, fri, marissa, mayer, google, ti...   \n",
       "\n",
       "                                         joined_text  \n",
       "0  3g iphone hr tweeting rise_austin dead need up...  \n",
       "1  know fludapp awesome ipad iphone app likely ap...  \n",
       "2                                wait ipad also sale  \n",
       "3           year's festival crashy year's iphone app  \n",
       "4  great stuff fri marissa mayer google tim o'rei...  "
      ]
     },
     "execution_count": 17,
     "metadata": {},
     "output_type": "execute_result"
    }
   ],
   "source": [
    "df_2col['joined_text'] = df_2col['preprocessed'].str.join(\" \")\n",
    "df_2col.head()"
   ]
  },
  {
   "cell_type": "markdown",
   "id": "0b390e1c",
   "metadata": {},
   "source": [
    "### Splitting the dataset"
   ]
  },
  {
   "cell_type": "markdown",
   "id": "a1df91f5",
   "metadata": {},
   "source": [
    "Since we will develop neural networks in the end,the dataset will be split into train set,validation set and test set."
   ]
  },
  {
   "cell_type": "code",
   "execution_count": 25,
   "id": "f61e245a",
   "metadata": {},
   "outputs": [],
   "source": [
    "# Defining the inputs and targets\n",
    "X= df_2col[['joined_text']]\n",
    "y= df_2col['emotion']"
   ]
  },
  {
   "cell_type": "code",
   "execution_count": 26,
   "id": "b6e9b8bc",
   "metadata": {},
   "outputs": [],
   "source": [
    "#Importing the relevant libraries\n",
    "from sklearn.model_selection import train_test_split\n",
    "from sklearn.feature_extraction.text import TfidfVectorizer\n",
    "from sklearn.feature_extraction.text import CountVectorizer"
   ]
  },
  {
   "cell_type": "code",
   "execution_count": 27,
   "id": "5df52e9a",
   "metadata": {},
   "outputs": [],
   "source": [
    "#Splitting the dataset with a test_size of 0.2 and random_state of 42\n",
    "X_train,X_test,y_train,y_test = train_test_split(X,y,test_size=.2,random_state=42)\n",
    "# Creating validation sets for use in developing neural network models\n",
    "X_train,X_val,y_train,y_val = train_test_split(X_train,y_train,test_size=1000,random_state=42)"
   ]
  },
  {
   "cell_type": "markdown",
   "id": "b3b4a394",
   "metadata": {},
   "source": [
    "### Word vectorization using CountVectorizer"
   ]
  },
  {
   "cell_type": "code",
   "execution_count": 28,
   "id": "bc4f59f2",
   "metadata": {},
   "outputs": [],
   "source": [
    "# Instantiating CountVectorizer object\n",
    "count_vectorizer =CountVectorizer()\n",
    "# fitting the vectorizer on the train set\n",
    "count_vectorizer.fit(X_train)\n",
    "# transforming the train and test sets\n",
    "X_train_vectorized = count_vectorizer.transform(X_train)\n",
    "X_test_vectorized = count_vectorizer.transform(X_test)"
   ]
  },
  {
   "cell_type": "markdown",
   "id": "b07deac1",
   "metadata": {},
   "source": [
    "### Building a baseline model "
   ]
  },
  {
   "cell_type": "markdown",
   "id": "9f8953a3",
   "metadata": {},
   "source": [
    " We will build a baseline model using the outputs of the CountVectorizer.Thebaseline model will be a decision tree classifier."
   ]
  },
  {
   "cell_type": "code",
   "execution_count": null,
   "id": "7b735f10",
   "metadata": {},
   "outputs": [],
   "source": [
    "# Importing the relevant libraries\n",
    "from sklearn.tree import DecisionTreeClassifier\n",
    "# instantiating the DecisionTreeClassifier\n",
    "tree_clf = DecisionTreeClassifier()\n"
   ]
  }
 ],
 "metadata": {
  "kernelspec": {
   "display_name": "Python (learn-env)",
   "language": "python",
   "name": "learn-env"
  },
  "language_info": {
   "codemirror_mode": {
    "name": "ipython",
    "version": 3
   },
   "file_extension": ".py",
   "mimetype": "text/x-python",
   "name": "python",
   "nbconvert_exporter": "python",
   "pygments_lexer": "ipython3",
   "version": "3.10.11"
  }
 },
 "nbformat": 4,
 "nbformat_minor": 5
}
